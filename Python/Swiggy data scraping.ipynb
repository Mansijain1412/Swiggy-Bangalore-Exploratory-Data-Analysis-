{
 "cells": [
  {
   "cell_type": "code",
   "execution_count": null,
   "id": "dd4882c8",
   "metadata": {},
   "outputs": [],
   "source": [
    "import pandas as pd\n",
    "from bs4 import BeautifulSoup\n",
    "import requests\n",
    "import time\n",
    "from selenium import webdriver\n",
    "from selenium.webdriver.common.keys import Keys\n",
    "from selenium.webdriver.common.by import By\n",
    "from selenium.webdriver.chrome.service import Service\n",
    "start = time.time()\n",
    "import json\n",
    "\n",
    "\n",
    "\n",
    "\n",
    "service = Service('chromedriver.exe')\n",
    "\n",
    "\n",
    "driver = webdriver.Chrome(service=service)"
   ]
  },
  {
   "cell_type": "code",
   "execution_count": null,
   "id": "639af8cf",
   "metadata": {},
   "outputs": [],
   "source": [
    "link = 'https://www.swiggy.com/'\n",
    "\n",
    "# It will open the website on new chrome window\n",
    "driver.get(link)"
   ]
  },
  {
   "cell_type": "code",
   "execution_count": null,
   "id": "db4126df",
   "metadata": {},
   "outputs": [],
   "source": [
    "# Find the search box and send the search query\n",
    "\n",
    "search_box = driver.find_element(By.XPATH, '//*[@id=\"location\"]')"
   ]
  },
  {
   "cell_type": "code",
   "execution_count": null,
   "id": "c0f18ea8",
   "metadata": {},
   "outputs": [],
   "source": [
    "search_box.send_keys('Bangalore,Karnataka,India')\n",
    "search_box.send_keys(Keys.ENTER)"
   ]
  },
  {
   "cell_type": "code",
   "execution_count": null,
   "id": "6268be60",
   "metadata": {},
   "outputs": [],
   "source": [
    "import json"
   ]
  },
  {
   "cell_type": "code",
   "execution_count": null,
   "id": "4d22a223",
   "metadata": {},
   "outputs": [],
   "source": [
    "Restaurant_list = []\n",
    "\n",
    "\n",
    "for page in range(50):\n",
    "    data = driver.find_elements(By.CLASS_NAME, '_1HEuF')\n",
    "    \n",
    "    \n",
    "    \n",
    "    for datas in data:\n",
    "        Restaurant_Name = datas.find_element(By.CLASS_NAME,\"nA6kb\").text\n",
    "        Rating= datas.find_element(By.CLASS_NAME,'_3Mn31').text.split(\"\\n\")[0]\n",
    "        Price_for_one_or_two = datas.find_element(By.CLASS_NAME,'nVWSi').text\n",
    "        Cusines = datas.find_element(By.CLASS_NAME,'_1gURR').text\n",
    "        \n",
    "        \n",
    "        #link = datas.find_element(By.CLASS_NAME, '_1j_Yo').text\n",
    "        #link_url = link.get_attribute('href')\n",
    "        \n",
    "            \n",
    "        \n",
    "        \n",
    "        #print(datas)\n",
    "   \n",
    "        \n",
    "        Restaurant_details = {'Restaurant_Name':Restaurant_Name,'Rating':Rating,'Price_for_one_or_two':Price_for_one_or_two,\n",
    "                       'Cusines':Cusines}#,'Apply_Link':link_url}\n",
    "        \n",
    "        Restaurant_list.append(Restaurant_details)\n",
    "   \n",
    "   "
   ]
  },
  {
   "cell_type": "code",
   "execution_count": null,
   "id": "833da9bb",
   "metadata": {},
   "outputs": [],
   "source": [
    "df = pd.DataFrame(Restaurant_list) \n",
    "print(df)  \n",
    "df.to_csv(\"Restaurant.csv\")"
   ]
  },
  {
   "cell_type": "code",
   "execution_count": null,
   "id": "61c457c0",
   "metadata": {},
   "outputs": [],
   "source": [
    "import os\n",
    "import pandas as pd\n",
    "\n",
    "# Create a DataFrame from Restaurant_list\n",
    "df = pd.DataFrame(Restaurant_list)\n",
    "\n",
    "# Export the DataFrame to an Excel file\n",
    "df.to_excel('project.xlsx', index=False)\n",
    "\n",
    "# Get the current working directory\n",
    "cwd = os.getcwd()\n",
    "\n",
    "# Create the full path to the Excel file\n",
    "excel_path = os.path.join(cwd, 'project.xlsx')\n",
    "\n",
    "# Print the full path to the Excel file\n",
    "print(excel_path)"
   ]
  },
  {
   "cell_type": "code",
   "execution_count": null,
   "id": "9072ade0",
   "metadata": {},
   "outputs": [],
   "source": [
    "Restaurant_details_list = []\n",
    "\n",
    "\n",
    "for rest_link in range(100):\n",
    "\n",
    "    data = driver.find_elements(By.CLASS_NAME,'nDVxx')\n",
    "    #time.sleep(5)\n",
    "    \n",
    "\n",
    "    for datas in data:\n",
    "        Restaurant_Name = datas.find_element(By.CLASS_NAME,\"RestaurantNameAddress_name__2IaTv\").text\n",
    "        location= datas.find_element(By.CLASS_NAME,'RestaurantNameAddress_area__2P9ib').text\n",
    "        #dish_category = datas.find_element(By.CLASS_NAME,'nVWSi').text\n",
    "        dish_name = datas.find_element(By.CLASS_NAME,'styles_itemNameText__3ZmZZ').text\n",
    "        price = datas.find_element(By.CLASS_NAME,'rupee').text\n",
    "        delivery_review_number = datas.find_element(By.CLASS_NAME,'RestaurantRatings_totalRatings__3d6Zc').text\n",
    "\n",
    "\n",
    "\n",
    "        Restaurant_details = {'Restaurant_Name':Restaurant_Name,'location':location,'dish_name':dish_name,\n",
    "                       'price':price,'delivery_review_number':delivery_review_number}\n",
    "\n",
    "        Restaurant_details_list.append(Restaurant_details)"
   ]
  },
  {
   "cell_type": "code",
   "execution_count": null,
   "id": "fd7c8609",
   "metadata": {},
   "outputs": [],
   "source": [
    "df1 = pd.DataFrame(Restaurant_details_list) \n",
    "print(df1)  \n",
    "df1.to_csv(\"Restaurant_details.csv\")"
   ]
  },
  {
   "cell_type": "code",
   "execution_count": null,
   "id": "79eb26cf",
   "metadata": {},
   "outputs": [],
   "source": [
    "import html_to_json\n",
    "import Keys\n",
    "from pyshadow.main import Shadow\n",
    "from bs4 import BeautifulSoup"
   ]
  },
  {
   "cell_type": "code",
   "execution_count": null,
   "id": "4316414f",
   "metadata": {},
   "outputs": [],
   "source": [
    "import re\n",
    "import pandas as pd\n",
    "\n",
    "# List to store the restaurant data\n",
    "restaurant_data = []\n",
    "\n",
    "# Loop through the html strings and extract the restaurant data\n",
    "for html in html_list:\n",
    "#     restaurant_ids = re.findall('data-rest-id=\"(.*?)\"', html)\n",
    "#     restaurant_links = re.findall('<a href=\"(.*?)\">', html)\n",
    "    name = re.findall('<div class=\"nA6kb\">(.*?)</div>', html)\n",
    "    rating = re.findall('<span class=\"icon-star _537e4\"></span><span>(.*?)</span>', html)\n",
    "    cusins = re.findall('<div class=\"_1gURR\" title=\"(.*?)\">', html)\n",
    "    price = re.findall('<div class=\"nVWSi\">(.*?)</div>', html)\n",
    "    delivery_time = re.findall('<div>(\\d+) MINS</div>', html)\n",
    "    link=\n",
    "    \n",
    "    # If price or cusins not found, set it to empty string\n",
    "    if not price:\n",
    "        price = [\"\"]\n",
    "    if not cusins:\n",
    "        cusins = [\"\"]\n",
    "        \n",
    "    # Add the restaurant data to the list\n",
    "    restaurant_data.append([name[0], rating[0], cusins[0], price[0], delivery_time[0]])\n",
    "\n",
    "# Create a dataframe from the restaurant data\n",
    "df = pd.DataFrame(restaurant_data, columns=['Restaurant Name', 'Rating', 'Cusins', 'Price for Two', 'Delivery Time'])\n",
    "\n",
    "# Extract the list of restaurant names from the dataframe\n",
    "restaurant_names = df['Restaurant Name'].tolist()\n",
    "\n",
    "# Print the list of restaurant names\n",
    "print(restaurant_names)"
   ]
  },
  {
   "cell_type": "code",
   "execution_count": null,
   "id": "fccf5f86",
   "metadata": {},
   "outputs": [],
   "source": []
  }
 ],
 "metadata": {
  "kernelspec": {
   "display_name": "Python 3 (ipykernel)",
   "language": "python",
   "name": "python3"
  },
  "language_info": {
   "codemirror_mode": {
    "name": "ipython",
    "version": 3
   },
   "file_extension": ".py",
   "mimetype": "text/x-python",
   "name": "python",
   "nbconvert_exporter": "python",
   "pygments_lexer": "ipython3",
   "version": "3.11.0"
  }
 },
 "nbformat": 4,
 "nbformat_minor": 5
}
